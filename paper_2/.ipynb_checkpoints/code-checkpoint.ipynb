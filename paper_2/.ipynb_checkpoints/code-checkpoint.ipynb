{
 "cells": [
  {
   "cell_type": "code",
   "execution_count": 25,
   "id": "9f1d84fd",
   "metadata": {
    "scrolled": false
   },
   "outputs": [
    {
     "name": "stdout",
     "output_type": "stream",
     "text": [
      "Epoch 1/5\n",
      "   3749/Unknown \u001b[1m138s\u001b[0m 36ms/step - accuracy: 0.8606 - loss: 0.4303"
     ]
    },
    {
     "name": "stderr",
     "output_type": "stream",
     "text": [
      "2024-10-08 10:13:25.350385: I tensorflow/core/framework/local_rendezvous.cc:404] Local rendezvous is aborting with status: OUT_OF_RANGE: End of sequence\n",
      "2024-10-08 10:13:25.354242: I tensorflow/core/framework/local_rendezvous.cc:404] Local rendezvous is aborting with status: OUT_OF_RANGE: End of sequence\n",
      "\t [[{{node IteratorGetNext}}]]\n",
      "\t [[StatefulPartitionedCall/adam/Add_8/ReadVariableOp/_1]]\n",
      "2024-10-08 10:13:25.354262: I tensorflow/core/framework/local_rendezvous.cc:423] Local rendezvous recv item cancelled. Key hash: 17448233847767517790\n",
      "2024-10-08 10:13:25.354267: I tensorflow/core/framework/local_rendezvous.cc:423] Local rendezvous recv item cancelled. Key hash: 4925557098472468529\n",
      "2024-10-08 10:13:25.354276: I tensorflow/core/framework/local_rendezvous.cc:423] Local rendezvous recv item cancelled. Key hash: 17716219253532008484\n",
      "2024-10-08 10:13:25.354286: I tensorflow/core/framework/local_rendezvous.cc:423] Local rendezvous recv item cancelled. Key hash: 11348681209493270804\n",
      "2024-10-08 10:13:25.354290: I tensorflow/core/framework/local_rendezvous.cc:423] Local rendezvous recv item cancelled. Key hash: 3749626972706301610\n",
      "2024-10-08 10:13:25.354294: I tensorflow/core/framework/local_rendezvous.cc:423] Local rendezvous recv item cancelled. Key hash: 5481597926455346926\n",
      "2024-10-08 10:13:25.354299: I tensorflow/core/framework/local_rendezvous.cc:423] Local rendezvous recv item cancelled. Key hash: 1397382772306974950\n",
      "2024-10-08 10:13:25.354303: I tensorflow/core/framework/local_rendezvous.cc:423] Local rendezvous recv item cancelled. Key hash: 13506537335262705212\n",
      "2024-10-08 10:13:25.354307: I tensorflow/core/framework/local_rendezvous.cc:423] Local rendezvous recv item cancelled. Key hash: 10547297956949743594\n",
      "2024-10-08 10:13:25.354312: I tensorflow/core/framework/local_rendezvous.cc:423] Local rendezvous recv item cancelled. Key hash: 14717054624051646360\n",
      "2024-10-08 10:13:25.354318: I tensorflow/core/framework/local_rendezvous.cc:423] Local rendezvous recv item cancelled. Key hash: 14616070943460344139\n",
      "2024-10-08 10:13:25.354335: I tensorflow/core/framework/local_rendezvous.cc:423] Local rendezvous recv item cancelled. Key hash: 11796155222170091841\n",
      "2024-10-08 10:13:25.354339: I tensorflow/core/framework/local_rendezvous.cc:423] Local rendezvous recv item cancelled. Key hash: 988939245374018315\n",
      "2024-10-08 10:13:25.354344: I tensorflow/core/framework/local_rendezvous.cc:423] Local rendezvous recv item cancelled. Key hash: 3991565797904686843\n",
      "2024-10-08 10:13:25.354348: I tensorflow/core/framework/local_rendezvous.cc:423] Local rendezvous recv item cancelled. Key hash: 17640316776661417855\n",
      "2024-10-08 10:13:25.354351: I tensorflow/core/framework/local_rendezvous.cc:423] Local rendezvous recv item cancelled. Key hash: 13939067812960933377\n",
      "2024-10-08 10:13:25.354354: I tensorflow/core/framework/local_rendezvous.cc:423] Local rendezvous recv item cancelled. Key hash: 5683035805441918679\n",
      "2024-10-08 10:13:25.354359: I tensorflow/core/framework/local_rendezvous.cc:423] Local rendezvous recv item cancelled. Key hash: 1140254024764263079\n",
      "2024-10-08 10:13:25.354363: I tensorflow/core/framework/local_rendezvous.cc:423] Local rendezvous recv item cancelled. Key hash: 16791608419729428015\n",
      "2024-10-08 10:13:25.354367: I tensorflow/core/framework/local_rendezvous.cc:423] Local rendezvous recv item cancelled. Key hash: 4344366804655513383\n",
      "/Library/Frameworks/Python.framework/Versions/3.11/lib/python3.11/contextlib.py:155: UserWarning: Your input ran out of data; interrupting training. Make sure that your dataset or generator can generate at least `steps_per_epoch * epochs` batches. You may need to use the `.repeat()` function when building your dataset.\n",
      "  self.gen.throw(typ, value, traceback)\n"
     ]
    },
    {
     "name": "stdout",
     "output_type": "stream",
     "text": [
      "\u001b[1m3750/3750\u001b[0m \u001b[32m━━━━━━━━━━━━━━━━━━━━\u001b[0m\u001b[37m\u001b[0m \u001b[1m147s\u001b[0m 39ms/step - accuracy: 0.8606 - loss: 0.4302 - val_accuracy: 0.8857 - val_loss: 0.3261\n",
      "Epoch 2/5\n",
      "\u001b[1m   3/3750\u001b[0m \u001b[37m━━━━━━━━━━━━━━━━━━━━\u001b[0m \u001b[1m2:26\u001b[0m 39ms/step - accuracy: 0.8524 - loss: 0.4130"
     ]
    },
    {
     "name": "stderr",
     "output_type": "stream",
     "text": [
      "2024-10-08 10:13:34.188207: I tensorflow/core/framework/local_rendezvous.cc:423] Local rendezvous recv item cancelled. Key hash: 3699640868639937127\n",
      "2024-10-08 10:13:34.188221: I tensorflow/core/framework/local_rendezvous.cc:423] Local rendezvous recv item cancelled. Key hash: 4892414630045973921\n",
      "2024-10-08 10:13:34.188228: I tensorflow/core/framework/local_rendezvous.cc:423] Local rendezvous recv item cancelled. Key hash: 2787315973575985354\n"
     ]
    },
    {
     "name": "stdout",
     "output_type": "stream",
     "text": [
      "\u001b[1m3749/3750\u001b[0m \u001b[32m━━━━━━━━━━━━━━━━━━━\u001b[0m\u001b[37m━\u001b[0m \u001b[1m0s\u001b[0m 36ms/step - accuracy: 0.8910 - loss: 0.3079"
     ]
    },
    {
     "name": "stderr",
     "output_type": "stream",
     "text": [
      "2024-10-08 10:15:47.678936: I tensorflow/core/framework/local_rendezvous.cc:404] Local rendezvous is aborting with status: OUT_OF_RANGE: End of sequence\n",
      "2024-10-08 10:15:47.684291: I tensorflow/core/framework/local_rendezvous.cc:423] Local rendezvous recv item cancelled. Key hash: 17716219253532008484\n",
      "2024-10-08 10:15:47.684310: I tensorflow/core/framework/local_rendezvous.cc:423] Local rendezvous recv item cancelled. Key hash: 4925557098472468529\n",
      "2024-10-08 10:15:47.684314: I tensorflow/core/framework/local_rendezvous.cc:423] Local rendezvous recv item cancelled. Key hash: 11796155222170091841\n",
      "2024-10-08 10:15:47.684336: I tensorflow/core/framework/local_rendezvous.cc:423] Local rendezvous recv item cancelled. Key hash: 17640316776661417855\n",
      "2024-10-08 10:15:47.684343: I tensorflow/core/framework/local_rendezvous.cc:423] Local rendezvous recv item cancelled. Key hash: 988939245374018315\n",
      "2024-10-08 10:15:47.684347: I tensorflow/core/framework/local_rendezvous.cc:423] Local rendezvous recv item cancelled. Key hash: 14616070943460344139\n",
      "2024-10-08 10:15:47.684351: I tensorflow/core/framework/local_rendezvous.cc:423] Local rendezvous recv item cancelled. Key hash: 13939067812960933377\n",
      "2024-10-08 10:15:47.684355: I tensorflow/core/framework/local_rendezvous.cc:423] Local rendezvous recv item cancelled. Key hash: 5683035805441918679\n",
      "2024-10-08 10:15:47.684360: I tensorflow/core/framework/local_rendezvous.cc:423] Local rendezvous recv item cancelled. Key hash: 3991565797904686843\n",
      "2024-10-08 10:15:47.684365: I tensorflow/core/framework/local_rendezvous.cc:423] Local rendezvous recv item cancelled. Key hash: 1140254024764263079\n",
      "2024-10-08 10:15:47.684369: I tensorflow/core/framework/local_rendezvous.cc:423] Local rendezvous recv item cancelled. Key hash: 16791608419729428015\n",
      "2024-10-08 10:15:47.684372: I tensorflow/core/framework/local_rendezvous.cc:423] Local rendezvous recv item cancelled. Key hash: 4344366804655513383\n",
      "2024-10-08 10:15:47.684378: I tensorflow/core/framework/local_rendezvous.cc:423] Local rendezvous recv item cancelled. Key hash: 11348681209493270804\n",
      "2024-10-08 10:15:47.684381: I tensorflow/core/framework/local_rendezvous.cc:423] Local rendezvous recv item cancelled. Key hash: 5481597926455346926\n",
      "2024-10-08 10:15:47.684385: I tensorflow/core/framework/local_rendezvous.cc:423] Local rendezvous recv item cancelled. Key hash: 1397382772306974950\n",
      "2024-10-08 10:15:47.684387: I tensorflow/core/framework/local_rendezvous.cc:423] Local rendezvous recv item cancelled. Key hash: 3749626972706301610\n",
      "2024-10-08 10:15:47.684392: I tensorflow/core/framework/local_rendezvous.cc:423] Local rendezvous recv item cancelled. Key hash: 10547297956949743594\n",
      "2024-10-08 10:15:47.684412: I tensorflow/core/framework/local_rendezvous.cc:423] Local rendezvous recv item cancelled. Key hash: 17448233847767517790\n",
      "2024-10-08 10:15:47.684425: I tensorflow/core/framework/local_rendezvous.cc:423] Local rendezvous recv item cancelled. Key hash: 14717054624051646360\n"
     ]
    },
    {
     "name": "stdout",
     "output_type": "stream",
     "text": [
      "\u001b[1m3750/3750\u001b[0m \u001b[32m━━━━━━━━━━━━━━━━━━━━\u001b[0m\u001b[37m\u001b[0m \u001b[1m143s\u001b[0m 38ms/step - accuracy: 0.8910 - loss: 0.3079 - val_accuracy: 0.8901 - val_loss: 0.3129\n",
      "Epoch 3/5\n",
      "\u001b[1m   2/3750\u001b[0m \u001b[37m━━━━━━━━━━━━━━━━━━━━\u001b[0m \u001b[1m3:53\u001b[0m 62ms/step - accuracy: 0.8828 - loss: 0.3553"
     ]
    },
    {
     "name": "stderr",
     "output_type": "stream",
     "text": [
      "2024-10-08 10:15:57.106510: I tensorflow/core/framework/local_rendezvous.cc:423] Local rendezvous recv item cancelled. Key hash: 3699640868639937127\n",
      "2024-10-08 10:15:57.106525: I tensorflow/core/framework/local_rendezvous.cc:423] Local rendezvous recv item cancelled. Key hash: 4892414630045973921\n",
      "2024-10-08 10:15:57.106534: I tensorflow/core/framework/local_rendezvous.cc:423] Local rendezvous recv item cancelled. Key hash: 2787315973575985354\n"
     ]
    },
    {
     "name": "stdout",
     "output_type": "stream",
     "text": [
      "\u001b[1m3749/3750\u001b[0m \u001b[32m━━━━━━━━━━━━━━━━━━━\u001b[0m\u001b[37m━\u001b[0m \u001b[1m0s\u001b[0m 44ms/step - accuracy: 0.8959 - loss: 0.2915"
     ]
    },
    {
     "name": "stderr",
     "output_type": "stream",
     "text": [
      "2024-10-08 10:18:40.550450: I tensorflow/core/framework/local_rendezvous.cc:423] Local rendezvous recv item cancelled. Key hash: 17716219253532008484\n",
      "2024-10-08 10:18:40.550469: I tensorflow/core/framework/local_rendezvous.cc:404] Local rendezvous is aborting with status: OUT_OF_RANGE: End of sequence\n",
      "\t [[{{node IteratorGetNext}}]]\n",
      "\t [[StatefulPartitionedCall/adam/Add_8/_20]]\n",
      "2024-10-08 10:18:40.550474: I tensorflow/core/framework/local_rendezvous.cc:423] Local rendezvous recv item cancelled. Key hash: 4925557098472468529\n",
      "2024-10-08 10:18:40.550476: I tensorflow/core/framework/local_rendezvous.cc:423] Local rendezvous recv item cancelled. Key hash: 11796155222170091841\n",
      "2024-10-08 10:18:40.550479: I tensorflow/core/framework/local_rendezvous.cc:423] Local rendezvous recv item cancelled. Key hash: 14616070943460344139\n",
      "2024-10-08 10:18:40.550482: I tensorflow/core/framework/local_rendezvous.cc:423] Local rendezvous recv item cancelled. Key hash: 988939245374018315\n",
      "2024-10-08 10:18:40.550485: I tensorflow/core/framework/local_rendezvous.cc:423] Local rendezvous recv item cancelled. Key hash: 3991565797904686843\n",
      "2024-10-08 10:18:40.550487: I tensorflow/core/framework/local_rendezvous.cc:423] Local rendezvous recv item cancelled. Key hash: 17640316776661417855\n",
      "2024-10-08 10:18:40.550490: I tensorflow/core/framework/local_rendezvous.cc:423] Local rendezvous recv item cancelled. Key hash: 13939067812960933377\n",
      "2024-10-08 10:18:40.550496: I tensorflow/core/framework/local_rendezvous.cc:423] Local rendezvous recv item cancelled. Key hash: 5683035805441918679\n",
      "2024-10-08 10:18:40.550498: I tensorflow/core/framework/local_rendezvous.cc:423] Local rendezvous recv item cancelled. Key hash: 1140254024764263079\n",
      "2024-10-08 10:18:40.550501: I tensorflow/core/framework/local_rendezvous.cc:423] Local rendezvous recv item cancelled. Key hash: 16791608419729428015\n",
      "2024-10-08 10:18:40.550503: I tensorflow/core/framework/local_rendezvous.cc:423] Local rendezvous recv item cancelled. Key hash: 4344366804655513383\n",
      "2024-10-08 10:18:40.550508: I tensorflow/core/framework/local_rendezvous.cc:423] Local rendezvous recv item cancelled. Key hash: 11348681209493270804\n",
      "2024-10-08 10:18:40.550510: I tensorflow/core/framework/local_rendezvous.cc:423] Local rendezvous recv item cancelled. Key hash: 5481597926455346926\n",
      "2024-10-08 10:18:40.550512: I tensorflow/core/framework/local_rendezvous.cc:423] Local rendezvous recv item cancelled. Key hash: 1397382772306974950\n",
      "2024-10-08 10:18:40.550515: I tensorflow/core/framework/local_rendezvous.cc:423] Local rendezvous recv item cancelled. Key hash: 3749626972706301610\n",
      "2024-10-08 10:18:40.550518: I tensorflow/core/framework/local_rendezvous.cc:423] Local rendezvous recv item cancelled. Key hash: 10547297956949743594\n",
      "2024-10-08 10:18:40.550521: I tensorflow/core/framework/local_rendezvous.cc:423] Local rendezvous recv item cancelled. Key hash: 17448233847767517790\n",
      "2024-10-08 10:18:40.550528: I tensorflow/core/framework/local_rendezvous.cc:423] Local rendezvous recv item cancelled. Key hash: 14717054624051646360\n"
     ]
    },
    {
     "name": "stdout",
     "output_type": "stream",
     "text": [
      "\u001b[1m3750/3750\u001b[0m \u001b[32m━━━━━━━━━━━━━━━━━━━━\u001b[0m\u001b[37m\u001b[0m \u001b[1m174s\u001b[0m 46ms/step - accuracy: 0.8959 - loss: 0.2915 - val_accuracy: 0.8946 - val_loss: 0.3053\n",
      "Epoch 4/5\n",
      "\u001b[1m   2/3750\u001b[0m \u001b[37m━━━━━━━━━━━━━━━━━━━━\u001b[0m \u001b[1m3:41\u001b[0m 59ms/step - accuracy: 0.8828 - loss: 0.3247"
     ]
    },
    {
     "name": "stderr",
     "output_type": "stream",
     "text": [
      "2024-10-08 10:18:51.005043: I tensorflow/core/framework/local_rendezvous.cc:423] Local rendezvous recv item cancelled. Key hash: 3699640868639937127\n",
      "2024-10-08 10:18:51.005058: I tensorflow/core/framework/local_rendezvous.cc:423] Local rendezvous recv item cancelled. Key hash: 4892414630045973921\n",
      "2024-10-08 10:18:51.005066: I tensorflow/core/framework/local_rendezvous.cc:423] Local rendezvous recv item cancelled. Key hash: 2787315973575985354\n"
     ]
    },
    {
     "name": "stdout",
     "output_type": "stream",
     "text": [
      "\u001b[1m3750/3750\u001b[0m \u001b[32m━━━━━━━━━━━━━━━━━━━━\u001b[0m\u001b[37m\u001b[0m \u001b[1m0s\u001b[0m 44ms/step - accuracy: 0.9011 - loss: 0.2791"
     ]
    },
    {
     "name": "stderr",
     "output_type": "stream",
     "text": [
      "2024-10-08 10:21:37.037916: I tensorflow/core/framework/local_rendezvous.cc:423] Local rendezvous recv item cancelled. Key hash: 4925557098472468529\n",
      "2024-10-08 10:21:37.037932: I tensorflow/core/framework/local_rendezvous.cc:423] Local rendezvous recv item cancelled. Key hash: 11796155222170091841\n",
      "2024-10-08 10:21:37.037936: I tensorflow/core/framework/local_rendezvous.cc:423] Local rendezvous recv item cancelled. Key hash: 14616070943460344139\n",
      "2024-10-08 10:21:37.037940: I tensorflow/core/framework/local_rendezvous.cc:423] Local rendezvous recv item cancelled. Key hash: 988939245374018315\n",
      "2024-10-08 10:21:37.037944: I tensorflow/core/framework/local_rendezvous.cc:423] Local rendezvous recv item cancelled. Key hash: 3991565797904686843\n",
      "2024-10-08 10:21:37.037948: I tensorflow/core/framework/local_rendezvous.cc:423] Local rendezvous recv item cancelled. Key hash: 17640316776661417855\n",
      "2024-10-08 10:21:37.037951: I tensorflow/core/framework/local_rendezvous.cc:423] Local rendezvous recv item cancelled. Key hash: 13939067812960933377\n",
      "2024-10-08 10:21:37.037955: I tensorflow/core/framework/local_rendezvous.cc:423] Local rendezvous recv item cancelled. Key hash: 5683035805441918679\n",
      "2024-10-08 10:21:37.037958: I tensorflow/core/framework/local_rendezvous.cc:423] Local rendezvous recv item cancelled. Key hash: 1140254024764263079\n",
      "2024-10-08 10:21:37.037961: I tensorflow/core/framework/local_rendezvous.cc:423] Local rendezvous recv item cancelled. Key hash: 16791608419729428015\n",
      "2024-10-08 10:21:37.037964: I tensorflow/core/framework/local_rendezvous.cc:423] Local rendezvous recv item cancelled. Key hash: 4344366804655513383\n",
      "2024-10-08 10:21:37.037991: I tensorflow/core/framework/local_rendezvous.cc:423] Local rendezvous recv item cancelled. Key hash: 11348681209493270804\n",
      "2024-10-08 10:21:37.037994: I tensorflow/core/framework/local_rendezvous.cc:423] Local rendezvous recv item cancelled. Key hash: 5481597926455346926\n",
      "2024-10-08 10:21:37.037997: I tensorflow/core/framework/local_rendezvous.cc:423] Local rendezvous recv item cancelled. Key hash: 13506537335262705212\n",
      "2024-10-08 10:21:37.038000: I tensorflow/core/framework/local_rendezvous.cc:423] Local rendezvous recv item cancelled. Key hash: 1397382772306974950\n",
      "2024-10-08 10:21:37.038003: I tensorflow/core/framework/local_rendezvous.cc:423] Local rendezvous recv item cancelled. Key hash: 3749626972706301610\n",
      "2024-10-08 10:21:37.038006: I tensorflow/core/framework/local_rendezvous.cc:423] Local rendezvous recv item cancelled. Key hash: 17448233847767517790\n",
      "2024-10-08 10:21:37.038009: I tensorflow/core/framework/local_rendezvous.cc:423] Local rendezvous recv item cancelled. Key hash: 10547297956949743594\n",
      "2024-10-08 10:21:37.038021: I tensorflow/core/framework/local_rendezvous.cc:423] Local rendezvous recv item cancelled. Key hash: 14717054624051646360\n"
     ]
    },
    {
     "name": "stdout",
     "output_type": "stream",
     "text": [
      "\u001b[1m3750/3750\u001b[0m \u001b[32m━━━━━━━━━━━━━━━━━━━━\u001b[0m\u001b[37m\u001b[0m \u001b[1m176s\u001b[0m 47ms/step - accuracy: 0.9011 - loss: 0.2791 - val_accuracy: 0.8964 - val_loss: 0.2998\n",
      "Epoch 5/5\n",
      "\u001b[1m   2/3750\u001b[0m \u001b[37m━━━━━━━━━━━━━━━━━━━━\u001b[0m \u001b[1m3:56\u001b[0m 63ms/step - accuracy: 0.8984 - loss: 0.3249"
     ]
    },
    {
     "name": "stderr",
     "output_type": "stream",
     "text": [
      "2024-10-08 10:21:47.324413: I tensorflow/core/framework/local_rendezvous.cc:423] Local rendezvous recv item cancelled. Key hash: 3699640868639937127\n",
      "2024-10-08 10:21:47.324428: I tensorflow/core/framework/local_rendezvous.cc:423] Local rendezvous recv item cancelled. Key hash: 4892414630045973921\n",
      "2024-10-08 10:21:47.324437: I tensorflow/core/framework/local_rendezvous.cc:423] Local rendezvous recv item cancelled. Key hash: 2787315973575985354\n"
     ]
    },
    {
     "name": "stdout",
     "output_type": "stream",
     "text": [
      "\u001b[1m3750/3750\u001b[0m \u001b[32m━━━━━━━━━━━━━━━━━━━━\u001b[0m\u001b[37m\u001b[0m \u001b[1m0s\u001b[0m 44ms/step - accuracy: 0.9045 - loss: 0.2674"
     ]
    },
    {
     "name": "stderr",
     "output_type": "stream",
     "text": [
      "2024-10-08 10:24:32.762232: I tensorflow/core/framework/local_rendezvous.cc:423] Local rendezvous recv item cancelled. Key hash: 17716219253532008484\n",
      "2024-10-08 10:24:32.762249: I tensorflow/core/framework/local_rendezvous.cc:423] Local rendezvous recv item cancelled. Key hash: 11348681209493270804\n",
      "2024-10-08 10:24:32.762253: I tensorflow/core/framework/local_rendezvous.cc:423] Local rendezvous recv item cancelled. Key hash: 5481597926455346926\n",
      "2024-10-08 10:24:32.762257: I tensorflow/core/framework/local_rendezvous.cc:423] Local rendezvous recv item cancelled. Key hash: 13506537335262705212\n",
      "2024-10-08 10:24:32.762259: I tensorflow/core/framework/local_rendezvous.cc:423] Local rendezvous recv item cancelled. Key hash: 4925557098472468529\n",
      "2024-10-08 10:24:32.762268: I tensorflow/core/framework/local_rendezvous.cc:423] Local rendezvous recv item cancelled. Key hash: 11796155222170091841\n",
      "2024-10-08 10:24:32.762271: I tensorflow/core/framework/local_rendezvous.cc:423] Local rendezvous recv item cancelled. Key hash: 1397382772306974950\n",
      "2024-10-08 10:24:32.762273: I tensorflow/core/framework/local_rendezvous.cc:423] Local rendezvous recv item cancelled. Key hash: 14616070943460344139\n",
      "2024-10-08 10:24:32.762275: I tensorflow/core/framework/local_rendezvous.cc:423] Local rendezvous recv item cancelled. Key hash: 3749626972706301610\n",
      "2024-10-08 10:24:32.762277: I tensorflow/core/framework/local_rendezvous.cc:423] Local rendezvous recv item cancelled. Key hash: 988939245374018315\n",
      "2024-10-08 10:24:32.762281: I tensorflow/core/framework/local_rendezvous.cc:423] Local rendezvous recv item cancelled. Key hash: 3991565797904686843\n",
      "2024-10-08 10:24:32.762285: I tensorflow/core/framework/local_rendezvous.cc:423] Local rendezvous recv item cancelled. Key hash: 17640316776661417855\n",
      "2024-10-08 10:24:32.762288: I tensorflow/core/framework/local_rendezvous.cc:423] Local rendezvous recv item cancelled. Key hash: 13939067812960933377\n",
      "2024-10-08 10:24:32.762290: I tensorflow/core/framework/local_rendezvous.cc:423] Local rendezvous recv item cancelled. Key hash: 5683035805441918679\n",
      "2024-10-08 10:24:32.762294: I tensorflow/core/framework/local_rendezvous.cc:423] Local rendezvous recv item cancelled. Key hash: 1140254024764263079\n",
      "2024-10-08 10:24:32.762296: I tensorflow/core/framework/local_rendezvous.cc:423] Local rendezvous recv item cancelled. Key hash: 17448233847767517790\n",
      "2024-10-08 10:24:32.762307: I tensorflow/core/framework/local_rendezvous.cc:423] Local rendezvous recv item cancelled. Key hash: 10547297956949743594\n",
      "2024-10-08 10:24:32.762310: I tensorflow/core/framework/local_rendezvous.cc:423] Local rendezvous recv item cancelled. Key hash: 14717054624051646360\n",
      "2024-10-08 10:24:32.762317: I tensorflow/core/framework/local_rendezvous.cc:423] Local rendezvous recv item cancelled. Key hash: 16791608419729428015\n",
      "2024-10-08 10:24:32.762326: I tensorflow/core/framework/local_rendezvous.cc:423] Local rendezvous recv item cancelled. Key hash: 4344366804655513383\n"
     ]
    },
    {
     "name": "stdout",
     "output_type": "stream",
     "text": [
      "\u001b[1m3750/3750\u001b[0m \u001b[32m━━━━━━━━━━━━━━━━━━━━\u001b[0m\u001b[37m\u001b[0m \u001b[1m176s\u001b[0m 47ms/step - accuracy: 0.9045 - loss: 0.2674 - val_accuracy: 0.8984 - val_loss: 0.2955\n",
      "      3/Unknown \u001b[1m0s\u001b[0m 44ms/step - accuracy: 0.9167 - loss: 0.3442"
     ]
    },
    {
     "name": "stderr",
     "output_type": "stream",
     "text": [
      "2024-10-08 10:24:42.844297: I tensorflow/core/framework/local_rendezvous.cc:423] Local rendezvous recv item cancelled. Key hash: 3699640868639937127\n",
      "2024-10-08 10:24:42.844319: I tensorflow/core/framework/local_rendezvous.cc:423] Local rendezvous recv item cancelled. Key hash: 4892414630045973921\n",
      "2024-10-08 10:24:42.844326: I tensorflow/core/framework/local_rendezvous.cc:423] Local rendezvous recv item cancelled. Key hash: 2787315973575985354\n"
     ]
    },
    {
     "name": "stdout",
     "output_type": "stream",
     "text": [
      "\u001b[1m238/238\u001b[0m \u001b[32m━━━━━━━━━━━━━━━━━━━━\u001b[0m\u001b[37m\u001b[0m \u001b[1m11s\u001b[0m 44ms/step - accuracy: 0.9034 - loss: 0.2838\n",
      "Test Accuracy: 0.8984\n"
     ]
    },
    {
     "name": "stderr",
     "output_type": "stream",
     "text": [
      "2024-10-08 10:24:53.408835: I tensorflow/core/framework/local_rendezvous.cc:404] Local rendezvous is aborting with status: OUT_OF_RANGE: End of sequence\n",
      "2024-10-08 10:24:53.414300: I tensorflow/core/framework/local_rendezvous.cc:423] Local rendezvous recv item cancelled. Key hash: 3699640868639937127\n",
      "2024-10-08 10:24:53.414312: I tensorflow/core/framework/local_rendezvous.cc:423] Local rendezvous recv item cancelled. Key hash: 4892414630045973921\n",
      "2024-10-08 10:24:53.414320: I tensorflow/core/framework/local_rendezvous.cc:423] Local rendezvous recv item cancelled. Key hash: 2787315973575985354\n"
     ]
    }
   ],
   "source": [
    "import tensorflow as tf\n",
    "import tensorflow_hub as hub\n",
    "import tensorflow_datasets as tfds\n",
    "\n",
    "# Load the Universal Sentence Encoder (USE) from TensorFlow Hub\n",
    "embed = hub.load(\"https://tfhub.dev/google/universal-sentence-encoder/4\")\n",
    "\n",
    "# Load the AG News dataset from TensorFlow Datasets\n",
    "(train_data, test_data), info = tfds.load('ag_news_subset', split=['train', 'test'], with_info=True, as_supervised=True)\n",
    "\n",
    "# Preprocessing function to lowercase text\n",
    "def preprocess(text, label):\n",
    "    text = tf.strings.lower(text)\n",
    "    return text, label\n",
    "\n",
    "# Apply preprocessing to the datasets\n",
    "train_data = train_data.map(preprocess)\n",
    "test_data = test_data.map(preprocess)\n",
    "\n",
    "# Batch the datasets\n",
    "batch_size = 32\n",
    "train_data = train_data.batch(batch_size).prefetch(tf.data.experimental.AUTOTUNE)\n",
    "test_data = test_data.batch(batch_size).prefetch(tf.data.experimental.AUTOTUNE)\n",
    "\n",
    "# Function to embed text using USE outside of the map function\n",
    "def embed_text(text_batch):\n",
    "    embeddings = embed(text_batch)\n",
    "    return embeddings\n",
    "\n",
    "# Embed the entire dataset and create a generator for TensorFlow\n",
    "def embed_dataset(dataset):\n",
    "    for text_batch, label_batch in dataset:\n",
    "        text_batch_str = text_batch.numpy()  # Convert the text batch to numpy strings\n",
    "        embeddings = embed_text(text_batch_str)  # Get the USE embeddings\n",
    "        yield embeddings, label_batch\n",
    "\n",
    "# Convert the dataset into a TensorFlow Dataset with embeddings\n",
    "train_data_embedded = tf.data.Dataset.from_generator(\n",
    "    lambda: embed_dataset(train_data),\n",
    "    output_signature=(\n",
    "        tf.TensorSpec(shape=(None, 512), dtype=tf.float32),  \n",
    "        tf.TensorSpec(shape=(None,), dtype=tf.int64)\n",
    "    )\n",
    ")\n",
    "\n",
    "test_data_embedded = tf.data.Dataset.from_generator(\n",
    "    lambda: embed_dataset(test_data),\n",
    "    output_signature=(\n",
    "        tf.TensorSpec(shape=(None, 512), dtype=tf.float32),\n",
    "        tf.TensorSpec(shape=(None,), dtype=tf.int64)\n",
    "    )\n",
    ")\n",
    "\n",
    "# Define a simple model that takes USE embeddings as input\n",
    "model = tf.keras.Sequential([\n",
    "    tf.keras.layers.Input(shape=(512,)),  # USE generates 512-dimensional embeddings\n",
    "    tf.keras.layers.Dense(128, activation='relu'),\n",
    "    tf.keras.layers.Dropout(0.3),\n",
    "    tf.keras.layers.Dense(4, activation='softmax')  # 4 classes in AG News dataset\n",
    "])\n",
    "\n",
    "# Compile the model\n",
    "model.compile(optimizer='adam',\n",
    "              loss='sparse_categorical_crossentropy',\n",
    "              metrics=['accuracy'])\n",
    "\n",
    "# Train the model\n",
    "epochs = 5\n",
    "history = model.fit(train_data_embedded, epochs=epochs, validation_data=test_data_embedded)\n",
    "\n",
    "# Evaluate the model on test data\n",
    "test_loss, test_acc = model.evaluate(test_data_embedded)\n",
    "print(f\"Test Accuracy: {test_acc:.4f}\")"
   ]
  },
  {
   "cell_type": "code",
   "execution_count": null,
   "id": "7c5e0399",
   "metadata": {},
   "outputs": [],
   "source": []
  }
 ],
 "metadata": {
  "kernelspec": {
   "display_name": "tensorflow",
   "language": "python",
   "name": "tensorflow"
  },
  "language_info": {
   "codemirror_mode": {
    "name": "ipython",
    "version": 3
   },
   "file_extension": ".py",
   "mimetype": "text/x-python",
   "name": "python",
   "nbconvert_exporter": "python",
   "pygments_lexer": "ipython3",
   "version": "3.11.2"
  },
  "toc": {
   "base_numbering": 1,
   "nav_menu": {},
   "number_sections": true,
   "sideBar": true,
   "skip_h1_title": false,
   "title_cell": "Table of Contents",
   "title_sidebar": "Contents",
   "toc_cell": false,
   "toc_position": {},
   "toc_section_display": true,
   "toc_window_display": false
  }
 },
 "nbformat": 4,
 "nbformat_minor": 5
}
