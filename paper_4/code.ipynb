{
 "cells": [
  {
   "cell_type": "code",
   "execution_count": 14,
   "id": "879c98a2",
   "metadata": {},
   "outputs": [
    {
     "ename": "ValueError",
     "evalue": "too many values to unpack (expected 2)",
     "output_type": "error",
     "traceback": [
      "\u001b[0;31m---------------------------------------------------------------------------\u001b[0m",
      "\u001b[0;31mValueError\u001b[0m                                Traceback (most recent call last)",
      "Cell \u001b[0;32mIn[14], line 51\u001b[0m\n\u001b[1;32m     48\u001b[0m enc_hidden \u001b[38;5;241m=\u001b[39m initialize_hidden_state(batch_size, units)\n\u001b[1;32m     50\u001b[0m \u001b[38;5;66;03m# Run encoder\u001b[39;00m\n\u001b[0;32m---> 51\u001b[0m enc_output, enc_hidden \u001b[38;5;241m=\u001b[39m \u001b[43mencoder\u001b[49m\u001b[43m(\u001b[49m\u001b[43msample_input\u001b[49m\u001b[43m,\u001b[49m\u001b[43m \u001b[49m\u001b[43mvocab_size\u001b[49m\u001b[43m,\u001b[49m\u001b[43m \u001b[49m\u001b[43membedding_dim\u001b[49m\u001b[43m,\u001b[49m\u001b[43m \u001b[49m\u001b[43munits\u001b[49m\u001b[43m)\u001b[49m\n\u001b[1;32m     53\u001b[0m \u001b[38;5;66;03m# Decoder's initial input (usually <start>)\u001b[39;00m\n\u001b[1;32m     54\u001b[0m dec_input \u001b[38;5;241m=\u001b[39m tf\u001b[38;5;241m.\u001b[39mexpand_dims([\u001b[38;5;241m0\u001b[39m] \u001b[38;5;241m*\u001b[39m batch_size, \u001b[38;5;241m1\u001b[39m)\n",
      "Cell \u001b[0;32mIn[14], line 18\u001b[0m, in \u001b[0;36mencoder\u001b[0;34m(input_sequence, vocab_size, embedding_dim, units)\u001b[0m\n\u001b[1;32m     16\u001b[0m \u001b[38;5;28;01mdef\u001b[39;00m \u001b[38;5;21mencoder\u001b[39m(input_sequence, vocab_size, embedding_dim, units):\n\u001b[1;32m     17\u001b[0m     embedding \u001b[38;5;241m=\u001b[39m Embedding(vocab_size, embedding_dim)(input_sequence)\n\u001b[0;32m---> 18\u001b[0m     gru_output, gru_hidden \u001b[38;5;241m=\u001b[39m GRU(units, return_sequences\u001b[38;5;241m=\u001b[39m\u001b[38;5;28;01mTrue\u001b[39;00m, return_state\u001b[38;5;241m=\u001b[39m\u001b[38;5;28;01mTrue\u001b[39;00m)(embedding)\n\u001b[1;32m     19\u001b[0m     \u001b[38;5;28;01mreturn\u001b[39;00m gru_output, gru_hidden\n",
      "\u001b[0;31mValueError\u001b[0m: too many values to unpack (expected 2)"
     ]
    }
   ],
   "source": [
    "import tensorflow as tf\n",
    "from tensorflow.keras.layers import Embedding, GRU, Dense, Concatenate\n",
    "\n",
    "# Hyperparameters\n",
    "embedding_dim = 256\n",
    "units = 1024\n",
    "vocab_size = 10000\n",
    "batch_size = 64\n",
    "max_seq_len = 16\n",
    "\n",
    "# Initialize hidden state\n",
    "def initialize_hidden_state(batch_sz, units):\n",
    "    return tf.zeros((batch_sz, units))\n",
    "\n",
    "# Encoder\n",
    "def encoder(input_sequence, vocab_size, embedding_dim, units):\n",
    "    embedding = Embedding(vocab_size, embedding_dim)(input_sequence)\n",
    "    gru_output, gru_hidden = GRU(units, return_sequences=True, return_state=True)(embedding)\n",
    "    return gru_output, gru_hidden\n",
    "\n",
    "# Simplified Bahdanau Attention\n",
    "def bahdanau_attention(query, values, units):\n",
    "    W1 = Dense(units)\n",
    "    W2 = Dense(units)\n",
    "    V = Dense(1)\n",
    "\n",
    "    # Apply attention layers\n",
    "    query_with_time_axis = tf.expand_dims(query, 1)\n",
    "    score = tf.nn.tanh(W1(values) + W2(query_with_time_axis))\n",
    "    attention_weights = tf.nn.softmax(V(score), axis=1)\n",
    "\n",
    "    # Calculate context vector\n",
    "    context_vector = tf.reduce_sum(attention_weights * values, axis=1)\n",
    "    return context_vector, attention_weights\n",
    "\n",
    "# Decoder\n",
    "def decoder(dec_input, dec_hidden, enc_output, vocab_size, embedding_dim, units):\n",
    "    context_vector, attention_weights = bahdanau_attention(dec_hidden, enc_output, units)\n",
    "    dec_embedding = Embedding(vocab_size, embedding_dim)(dec_input)\n",
    "    dec_input_combined = tf.concat([tf.expand_dims(context_vector, 1), dec_embedding], axis=-1)\n",
    "    gru_output, gru_state = GRU(units, return_sequences=True, return_state=True)(dec_input_combined)\n",
    "    output = Dense(vocab_size)(tf.reshape(gru_output, (-1, gru_output.shape[2])))\n",
    "    return output, gru_state, attention_weights\n",
    "\n",
    "# Example usage\n",
    "sample_input = tf.random.uniform((batch_size, max_seq_len), dtype=tf.int32, minval=0, maxval=vocab_size)\n",
    "sample_target = tf.random.uniform((batch_size, 1), dtype=tf.int32, minval=0, maxval=vocab_size)\n",
    "enc_hidden = initialize_hidden_state(batch_size, units)\n",
    "\n",
    "# Run encoder\n",
    "enc_output, enc_hidden = encoder(sample_input, vocab_size, embedding_dim, units)\n",
    "\n",
    "# Decoder's initial input (usually <start>)\n",
    "dec_input = tf.expand_dims([0] * batch_size, 1)\n",
    "\n",
    "# Run decoder\n",
    "dec_output, dec_hidden, attention_weights = decoder(dec_input, enc_hidden, enc_output, vocab_size, embedding_dim, units)\n",
    "\n",
    "# Output shapes\n",
    "print(\"Encoder output shape:\", enc_output.shape)\n",
    "print(\"Decoder output shape:\", dec_output.shape)\n",
    "print(\"Attention weights shape:\", attention_weights.shape)"
   ]
  },
  {
   "cell_type": "code",
   "execution_count": null,
   "id": "16ff922f",
   "metadata": {},
   "outputs": [],
   "source": []
  }
 ],
 "metadata": {
  "kernelspec": {
   "display_name": "tensorflow",
   "language": "python",
   "name": "tensorflow"
  },
  "language_info": {
   "codemirror_mode": {
    "name": "ipython",
    "version": 3
   },
   "file_extension": ".py",
   "mimetype": "text/x-python",
   "name": "python",
   "nbconvert_exporter": "python",
   "pygments_lexer": "ipython3",
   "version": "3.11.2"
  },
  "toc": {
   "base_numbering": 1,
   "nav_menu": {},
   "number_sections": true,
   "sideBar": true,
   "skip_h1_title": false,
   "title_cell": "Table of Contents",
   "title_sidebar": "Contents",
   "toc_cell": false,
   "toc_position": {},
   "toc_section_display": true,
   "toc_window_display": false
  }
 },
 "nbformat": 4,
 "nbformat_minor": 5
}
